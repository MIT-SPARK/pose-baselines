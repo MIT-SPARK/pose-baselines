{
 "cells": [
  {
   "cell_type": "code",
   "execution_count": 1,
   "id": "c155e91c",
   "metadata": {},
   "outputs": [
    {
     "name": "stdout",
     "output_type": "stream",
     "text": [
      "Jupyter environment detected. Enabling Open3D WebVisualizer.\n",
      "[Open3D INFO] WebRTC GUI backend enabled.\n",
      "[Open3D INFO] WebRTCWindowSystem: HTTP handshake server disabled.\n"
     ]
    }
   ],
   "source": [
    "import ipywidgets as widgets\n",
    "\n",
    "import results_all\n",
    "from results_all import dd_object, dd_baseline, dd_metric, dd_data_metric"
   ]
  },
  {
   "cell_type": "markdown",
   "id": "a81fc428",
   "metadata": {},
   "source": [
    "## Rotation Error Induced"
   ]
  },
  {
   "cell_type": "code",
   "execution_count": 3,
   "id": "8284b8ee",
   "metadata": {},
   "outputs": [
    {
     "data": {
      "application/vnd.jupyter.widget-view+json": {
       "model_id": "5fb419a98e784d138a512ef198b8580d",
       "version_major": 2,
       "version_minor": 0
      },
      "text/plain": [
       "interactive(children=(Dropdown(description='Metric', options=('rerr', 'terr'), value='rerr'), Output()), _dom_…"
      ]
     },
     "metadata": {},
     "output_type": "display_data"
    }
   ],
   "source": [
    "out = widgets.interactive(results_all.plot_data_errors, metric=dd_data_metric)\n",
    "display(out)"
   ]
  },
  {
   "cell_type": "markdown",
   "id": "29e99748",
   "metadata": {},
   "source": [
    "## Threshold ADD-S, ADD-S AUC Table"
   ]
  },
  {
   "cell_type": "code",
   "execution_count": 4,
   "id": "43d5c46a",
   "metadata": {},
   "outputs": [
    {
     "data": {
      "application/vnd.jupyter.widget-view+json": {
       "model_id": "c6d21169a5104eefa76b96283abd51be",
       "version_major": 2,
       "version_minor": 0
      },
      "text/plain": [
       "interactive(children=(Dropdown(description='Object', options=('airplane', 'bathtub', 'bed', 'bottle', 'cap', '…"
      ]
     },
     "metadata": {},
     "output_type": "display_data"
    }
   ],
   "source": [
    "out = widgets.interactive(results_all.table, my_object=dd_object, my_baseline=dd_baseline)\n",
    "display(out)"
   ]
  },
  {
   "cell_type": "markdown",
   "id": "ef74c7e6",
   "metadata": {},
   "source": [
    "## Evaluation Metric Distribution"
   ]
  },
  {
   "cell_type": "code",
   "execution_count": 5,
   "id": "6d666378",
   "metadata": {},
   "outputs": [
    {
     "data": {
      "application/vnd.jupyter.widget-view+json": {
       "model_id": "3204aa9f8a8f4503853d24a32404a4cb",
       "version_major": 2,
       "version_minor": 0
      },
      "text/plain": [
       "interactive(children=(Dropdown(description='Object', options=('airplane', 'bathtub', 'bed', 'bottle', 'cap', '…"
      ]
     },
     "metadata": {},
     "output_type": "display_data"
    }
   ],
   "source": [
    "out = widgets.interactive(results_all.plot, my_object=dd_object, my_baseline=dd_baseline, my_metric=dd_metric)\n",
    "display(out)"
   ]
  },
  {
   "cell_type": "markdown",
   "id": "515a0878",
   "metadata": {},
   "source": [
    "## TODO"
   ]
  },
  {
   "cell_type": "markdown",
   "id": "fa19878d",
   "metadata": {},
   "source": [
    "1. ADD C3PO as a consistent baseline to compare\n",
    "2. Show rotation error distribution for easy and hard cases"
   ]
  },
  {
   "cell_type": "markdown",
   "id": "0daaa144",
   "metadata": {},
   "source": [
    "## Conclusion"
   ]
  },
  {
   "cell_type": "markdown",
   "id": "2756a336",
   "metadata": {},
   "source": [
    "1. most approaches work on easy dataset.\n",
    "2. most approaches work on full point clouds, i.e. sim.\n",
    "3. c3po works on all kinds of errors."
   ]
  },
  {
   "cell_type": "code",
   "execution_count": null,
   "id": "4a92247d",
   "metadata": {},
   "outputs": [],
   "source": []
  }
 ],
 "metadata": {
  "kernelspec": {
   "display_name": "Python 3",
   "language": "python",
   "name": "python3"
  },
  "language_info": {
   "codemirror_mode": {
    "name": "ipython",
    "version": 3
   },
   "file_extension": ".py",
   "mimetype": "text/x-python",
   "name": "python",
   "nbconvert_exporter": "python",
   "pygments_lexer": "ipython3",
   "version": "3.9.7"
  }
 },
 "nbformat": 4,
 "nbformat_minor": 5
}
