{
 "cells": [
  {
   "cell_type": "code",
   "execution_count": 1,
   "id": "af330722",
   "metadata": {
    "pycharm": {
     "name": "#%%\n"
    }
   },
   "outputs": [],
   "source": [
    "import ipywidgets as widgets\n",
    "\n",
    "import results\n",
    "from results import dd_dataset, dd_object, dd_metric, slide_adds_th, slide_adds_auc_th"
   ]
  },
  {
   "cell_type": "markdown",
   "id": "edc2b301",
   "metadata": {
    "pycharm": {
     "name": "#%% md\n"
    }
   },
   "source": [
    "## Threshold ADD-S and ADD-S AUC"
   ]
  },
  {
   "cell_type": "code",
   "execution_count": 2,
   "id": "fca7dce1",
   "metadata": {
    "pycharm": {
     "name": "#%%\n"
    }
   },
   "outputs": [
    {
     "data": {
      "application/vnd.jupyter.widget-view+json": {
       "model_id": "9c0d02d4351f4c68b9de819bb6851dd6",
       "version_major": 2,
       "version_minor": 0
      },
      "text/plain": [
       "interactive(children=(Dropdown(description='Dataset', options=('shapenet.sim.easy', 'shapenet.sim.hard', 'shap…"
      ]
     },
     "metadata": {},
     "output_type": "display_data"
    }
   ],
   "source": [
    "out = widgets.interactive(results.table, \n",
    "                          my_dataset=dd_dataset, \n",
    "                          my_object=dd_object,\n",
    "                          my_adds_th=slide_adds_th,\n",
    "                          my_adds_auc_th=slide_adds_auc_th)\n",
    "display(out)"
   ]
  },
  {
   "cell_type": "markdown",
   "id": "41f1ef7f",
   "metadata": {
    "pycharm": {
     "name": "#%% md\n"
    }
   },
   "source": [
    "## Percent Certifiable"
   ]
  },
  {
   "cell_type": "code",
   "execution_count": 3,
   "id": "74d617bc",
   "metadata": {
    "pycharm": {
     "name": "#%%\n"
    }
   },
   "outputs": [
    {
     "data": {
      "application/vnd.jupyter.widget-view+json": {
       "model_id": "7d105bcd8d334c8ea22a078dd5369edb",
       "version_major": 2,
       "version_minor": 0
      },
      "text/plain": [
       "interactive(children=(Dropdown(description='Dataset', options=('shapenet.sim.easy', 'shapenet.sim.hard', 'shap…"
      ]
     },
     "metadata": {},
     "output_type": "display_data"
    }
   ],
   "source": [
    "out = widgets.interactive(results.table_certifiable, my_dataset=dd_dataset, my_object=dd_object)\n",
    "display(out)"
   ]
  },
  {
   "cell_type": "markdown",
   "id": "e126755f",
   "metadata": {
    "pycharm": {
     "name": "#%% md\n"
    }
   },
   "source": [
    "## Evaluation Metric Distribution"
   ]
  },
  {
   "cell_type": "code",
   "execution_count": 4,
   "id": "b4f8003c",
   "metadata": {
    "pycharm": {
     "name": "#%%\n"
    },
    "scrolled": false
   },
   "outputs": [
    {
     "data": {
      "application/vnd.jupyter.widget-view+json": {
       "model_id": "e418aa9936614c8db84a70fab6b4b374",
       "version_major": 2,
       "version_minor": 0
      },
      "text/plain": [
       "interactive(children=(Dropdown(description='Dataset', options=('shapenet.sim.easy', 'shapenet.sim.hard', 'shap…"
      ]
     },
     "metadata": {},
     "output_type": "display_data"
    }
   ],
   "source": [
    "out = widgets.interactive(results.plot, my_dataset=dd_dataset, my_object=dd_object, my_metric=dd_metric)\n",
    "display(out)"
   ]
  },
  {
   "cell_type": "code",
   "execution_count": null,
   "id": "52ef95de",
   "metadata": {},
   "outputs": [],
   "source": []
  }
 ],
 "metadata": {
  "kernelspec": {
   "display_name": "Python 3",
   "language": "python",
   "name": "python3"
  },
  "language_info": {
   "codemirror_mode": {
    "name": "ipython",
    "version": 3
   },
   "file_extension": ".py",
   "mimetype": "text/x-python",
   "name": "python",
   "nbconvert_exporter": "python",
   "pygments_lexer": "ipython3",
   "version": "3.9.7"
  }
 },
 "nbformat": 4,
 "nbformat_minor": 5
}
