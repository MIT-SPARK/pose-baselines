{
 "cells": [
  {
   "cell_type": "code",
   "execution_count": 1,
   "id": "7578e87e",
   "metadata": {},
   "outputs": [],
   "source": [
    "import csv\n",
    "\n",
    "import results"
   ]
  },
  {
   "cell_type": "markdown",
   "id": "5659fd69",
   "metadata": {
    "pycharm": {
     "name": "#%%\n"
    }
   },
   "source": [
    "# Saving Experiment Data"
   ]
  },
  {
   "cell_type": "markdown",
   "id": "bbf97735",
   "metadata": {},
   "source": [
    "## Saving to CSV"
   ]
  },
  {
   "cell_type": "code",
   "execution_count": 2,
   "id": "e3030606",
   "metadata": {},
   "outputs": [],
   "source": [
    "results.save_full_table(\"shapenet\")"
   ]
  },
  {
   "cell_type": "code",
   "execution_count": 3,
   "id": "8388bf65",
   "metadata": {},
   "outputs": [],
   "source": [
    "results.save_full_table(\"ycb\")"
   ]
  },
  {
   "cell_type": "markdown",
   "id": "24c1502e",
   "metadata": {},
   "source": [
    "## Saving Data to LaTeX"
   ]
  },
  {
   "cell_type": "markdown",
   "id": "496928e4",
   "metadata": {},
   "source": [
    "#### Generate ShapeNet Table in the Paper"
   ]
  },
  {
   "cell_type": "code",
   "execution_count": 4,
   "id": "317f29d0",
   "metadata": {},
   "outputs": [],
   "source": [
    "baselines = [\"KeyPo (sim)\", \"KeyPo (sim) + ICP\", \"KeyPo (sim) + Corr.\", \"C-3PO\", \n",
    "             \"C-3PO (oc=1, nd=1)\", \"DeepGMR\", \"PointNetLK\", \"FPFH + TEASER++\",\n",
    "             \"EquiPose\", \"KeyPo (real)\"]\n",
    "objects = [\"car\", \"chair\", \"helmet\", \"laptop\", \"skateboard\", \"table\"]\n",
    "\n",
    "\n",
    "data, data_cert = results.latex_table(\"shapenet\", baselines, objects, filename=\"table_shapenet.tex\")"
   ]
  },
  {
   "cell_type": "markdown",
   "id": "365ce71a",
   "metadata": {},
   "source": [
    "#### Generate YCB Table in the Paper"
   ]
  },
  {
   "cell_type": "code",
   "execution_count": 2,
   "id": "6e4e9999",
   "metadata": {},
   "outputs": [],
   "source": [
    "baselines = [\"KeyPo (sim)\", \"KeyPo (sim) + ICP\", \"KeyPo (sim) + Corr.\", \"C-3PO\", \n",
    "             \"C-3PO (oc=1, nd=1)\", \"DeepGMR\", \"PointNetLK\", \"FPFH + TEASER++\",\n",
    "             \"KeyPo (real)\"]\n",
    "objects = [\"001_chips_can\", \"006_mustard_bottle\", \"011_banana\", \"037_scissors\",\n",
    "           \"052_extra_large_clamp\", \"003_cracker_box\"]\n",
    "\n",
    "data, data_cert = results.latex_table(\"ycb\", baselines, objects, filename=\"table_ycb.tex\")"
   ]
  },
  {
   "cell_type": "markdown",
   "id": "0adcfe65",
   "metadata": {},
   "source": [
    "#### Generate ShapeNet Table, Appendix"
   ]
  },
  {
   "cell_type": "code",
   "execution_count": 6,
   "id": "99781287",
   "metadata": {},
   "outputs": [],
   "source": [
    "baselines = [\"KeyPo (sim)\", \"KeyPo (sim) + ICP\", \"KeyPo (sim) + RANSAC + ICP\", \n",
    "             \"KeyPo (sim) + Corr.\", \"KeyPo (sim) + Corr. + ICP\",\n",
    "             \"C-3PO\", \n",
    "             \"C-3PO (oc=1, nd=1)\", \"DeepGMR\", \"PointNetLK\", \"FPFH + TEASER++\",\n",
    "             \"EquiPose\", \"KeyPo (real)\"]\n",
    "objects = [\"airplane\", \"bathtub\", \"bed\", \"bottle\", \"cap\",  \"car\"]\n",
    "\n",
    "\n",
    "data, data_cert = results.latex_table(\"shapenet\", baselines, objects, filename=\"table_shapenet_extra01a.tex\")"
   ]
  },
  {
   "cell_type": "code",
   "execution_count": 7,
   "id": "1f578c92",
   "metadata": {},
   "outputs": [],
   "source": [
    "baselines = [\"KeyPo (sim)\", \"KeyPo (sim) + ICP\", \"KeyPo (sim) + RANSAC + ICP\", \n",
    "             \"KeyPo (sim) + Corr.\", \"KeyPo (sim) + Corr. + ICP\",\n",
    "             \"C-3PO\", \n",
    "             \"C-3PO (oc=1, nd=1)\", \"DeepGMR\", \"PointNetLK\", \"FPFH + TEASER++\",\n",
    "             \"EquiPose\", \"KeyPo (real)\"]\n",
    "objects = [\"chair\", \"guitar\", \"helmet\", \"knife\", \"laptop\",  \"motorcycle\"]\n",
    "\n",
    "\n",
    "data, data_cert = results.latex_table(\"shapenet\", baselines, objects, filename=\"table_shapenet_extra01b.tex\")"
   ]
  },
  {
   "cell_type": "code",
   "execution_count": 8,
   "id": "1dbdc6ed",
   "metadata": {},
   "outputs": [],
   "source": [
    "baselines = [\"KeyPo (sim)\", \"KeyPo (sim) + ICP\", \"KeyPo (sim) + RANSAC + ICP\", \n",
    "             \"KeyPo (sim) + Corr.\", \"KeyPo (sim) + Corr. + ICP\",\n",
    "             \"C-3PO\", \n",
    "             \"C-3PO (oc=1, nd=1)\", \"DeepGMR\", \"PointNetLK\", \"FPFH + TEASER++\",\n",
    "             \"EquiPose\", \"KeyPo (real)\"]\n",
    "objects = [\"mug\", \"skateboard\", \"table\", \"vessel\"]\n",
    "\n",
    "\n",
    "data, data_cert = results.latex_table(\"shapenet\", baselines, objects, filename=\"table_shapenet_extra01c.tex\")"
   ]
  },
  {
   "cell_type": "markdown",
   "id": "3cd94c56",
   "metadata": {},
   "source": [
    "#### Generate YCB Table, Appendix"
   ]
  },
  {
   "cell_type": "code",
   "execution_count": 9,
   "id": "ecb6d122",
   "metadata": {},
   "outputs": [],
   "source": [
    "baselines = [\"KeyPo (sim)\", \"KeyPo (sim) + ICP\", \"KeyPo (sim) + RANSAC + ICP\", \n",
    "             \"KeyPo (sim) + Corr.\", \"KeyPo (sim) + Corr. + ICP\",\n",
    "             \"C-3PO\", \n",
    "             \"C-3PO (oc=1, nd=1)\", \"DeepGMR\", \"PointNetLK\", \"FPFH + TEASER++\",\n",
    "             \"KeyPo (real)\"]\n",
    "objects = [\"001_chips_can\", \"002_master_chef_can\", \"003_cracker_box\", \n",
    "           \"004_sugar_box\", \"005_tomato_soup_can\", \"006_mustard_bottle\"]\n",
    "\n",
    "\n",
    "data, data_cert = results.latex_table(\"ycb\", baselines, objects, filename=\"table_ycb_extra01a.tex\")"
   ]
  },
  {
   "cell_type": "code",
   "execution_count": 10,
   "id": "acffa93d",
   "metadata": {},
   "outputs": [],
   "source": [
    "baselines = [\"KeyPo (sim)\", \"KeyPo (sim) + ICP\", \"KeyPo (sim) + RANSAC + ICP\", \n",
    "             \"KeyPo (sim) + Corr.\", \"KeyPo (sim) + Corr. + ICP\",\n",
    "             \"C-3PO\", \n",
    "             \"C-3PO (oc=1, nd=1)\", \"DeepGMR\", \"PointNetLK\", \"FPFH + TEASER++\",\n",
    "             \"KeyPo (real)\"]\n",
    "objects = [\"007_tuna_fish_can\", \"008_pudding_box\", \"009_gelatin_box\", \n",
    "           \"010_potted_meat_can\", \"011_banana\", \"021_bleach_cleanser\"]\n",
    "\n",
    "\n",
    "data, data_cert = results.latex_table(\"ycb\", baselines, objects, filename=\"table_ycb_extra01b.tex\")"
   ]
  },
  {
   "cell_type": "code",
   "execution_count": 11,
   "id": "5424f072",
   "metadata": {},
   "outputs": [],
   "source": [
    "baselines = [\"KeyPo (sim)\", \"KeyPo (sim) + ICP\", \"KeyPo (sim) + RANSAC + ICP\", \n",
    "             \"KeyPo (sim) + Corr.\", \"KeyPo (sim) + Corr. + ICP\",\n",
    "             \"C-3PO\", \n",
    "             \"C-3PO (oc=1, nd=1)\", \"DeepGMR\", \"PointNetLK\", \"FPFH + TEASER++\",\n",
    "             \"KeyPo (real)\"]\n",
    "objects = [\"035_power_drill\", \"036_wood_block\", \"037_scissors\", \n",
    "           \"051_large_clamp\", \"052_extra_large_clamp\", \"061_foam_brick\"]\n",
    "\n",
    "\n",
    "data, data_cert = results.latex_table(\"ycb\", baselines, objects, filename=\"table_ycb_extra01c.tex\")"
   ]
  },
  {
   "cell_type": "markdown",
   "id": "a9593958",
   "metadata": {},
   "source": [
    "#### Generate ShapeNet+YCB Table with Certification Results"
   ]
  },
  {
   "cell_type": "code",
   "execution_count": 12,
   "id": "3e598db8",
   "metadata": {},
   "outputs": [],
   "source": [
    "data = results.latex_table_cert()"
   ]
  },
  {
   "cell_type": "code",
   "execution_count": null,
   "id": "a68abb05",
   "metadata": {},
   "outputs": [],
   "source": []
  }
 ],
 "metadata": {
  "kernelspec": {
   "display_name": "Python 3",
   "language": "python",
   "name": "python3"
  },
  "language_info": {
   "codemirror_mode": {
    "name": "ipython",
    "version": 3
   },
   "file_extension": ".py",
   "mimetype": "text/x-python",
   "name": "python",
   "nbconvert_exporter": "python",
   "pygments_lexer": "ipython3",
   "version": "3.9.7"
  }
 },
 "nbformat": 4,
 "nbformat_minor": 5
}
