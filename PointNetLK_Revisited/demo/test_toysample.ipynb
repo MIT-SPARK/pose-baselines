{
 "cells": [
  {
   "cell_type": "markdown",
   "metadata": {},
   "source": [
    "## A simple analytical PointNetLK example"
   ]
  },
  {
   "cell_type": "markdown",
   "metadata": {},
   "source": [
    "Load packages."
   ]
  },
  {
   "cell_type": "code",
   "execution_count": 1,
   "metadata": {},
   "outputs": [
    {
     "name": "stdout",
     "output_type": "stream",
     "text": [
      "Jupyter environment detected. Enabling Open3D WebVisualizer.\n",
      "[Open3D INFO] WebRTC GUI backend enabled.\n",
      "[Open3D INFO] WebRTCWindowSystem: HTTP handshake server disabled.\n",
      "[Open3D INFO] WebRTC GUI backend enabled.\n",
      "[Open3D INFO] Resetting default logger to print to terminal.\n"
     ]
    }
   ],
   "source": [
    "# !pip install git+git://github.com/Lilac-Lee/PointNetLK_Revisited\n",
    "\n",
    "import argparse\n",
    "import os\n",
    "import sys\n",
    "import numpy as np\n",
    "import torch\n",
    "import torch.utils.data\n",
    "import torchvision\n",
    "\n",
    "# visualize the point cloud\n",
    "import open3d as o3d\n",
    "# open3d>=0.13.0, otherwise, comment line below\n",
    "o3d.visualization.webrtc_server.enable_webrtc()\n",
    "\n",
    "sys.path.insert(0, '../')\n",
    "import data_utils\n",
    "import trainer"
   ]
  },
  {
   "cell_type": "markdown",
   "metadata": {},
   "source": [
    "Initialize some testing and network parameters as arguments."
   ]
  },
  {
   "cell_type": "code",
   "execution_count": 2,
   "metadata": {},
   "outputs": [],
   "source": [
    "args = argparse.Namespace()\n",
    "\n",
    "# dimension for the PointNet embedding\n",
    "args.dim_k = 1024\n",
    "\n",
    "# device: cuda/cpu\n",
    "# args.device = 'cuda:0'\n",
    "args.device = 'cpu'\n",
    "\n",
    "# maximum iterations for the LK\n",
    "args.max_iter = 10\n",
    "\n",
    "# embedding function: pointnet\n",
    "args.embedding = 'pointnet'\n",
    "\n",
    "# output log file name\n",
    "args.outfile = 'toyexample_2021_04_17'\n",
    "\n",
    "# specify data type: real\n",
    "args.data_type = 'real'\n",
    "\n",
    "# specify visualize result or not\n",
    "args.vis = True"
   ]
  },
  {
   "cell_type": "markdown",
   "metadata": {},
   "source": [
    "Get toy example point cloud pairs, and ground truth rigid pose.\n",
    "Set some voxelization related parameters."
   ]
  },
  {
   "cell_type": "code",
   "execution_count": 3,
   "metadata": {},
   "outputs": [],
   "source": [
    "# load data\n",
    "p0 = np.load('./p0.npy')[np.newaxis,...]\n",
    "p1 = np.load('./p1.npy')[np.newaxis,...]\n",
    "\n",
    "# randomly set the twist parameters for the ground truth pose\n",
    "x = np.array([[0.57, -0.29, 0.73, -0.37, 0.48, -0.54]])\n",
    "\n",
    "# set voxelization parameters\n",
    "voxel_ratio = 0.05\n",
    "voxel = 2\n",
    "max_voxel_points = 1000\n",
    "num_voxels = 8\n",
    "\n",
    "# construct the testing dataset\n",
    "testset = data_utils.ToyExampleData(p0, p1, voxel_ratio, voxel, max_voxel_points, num_voxels, x, args.vis)"
   ]
  },
  {
   "cell_type": "markdown",
   "metadata": {},
   "source": [
    "Create the model class, load the pre-trained model, and begin testing!"
   ]
  },
  {
   "cell_type": "code",
   "execution_count": 4,
   "metadata": {
    "scrolled": false
   },
   "outputs": [
    {
     "name": "stderr",
     "output_type": "stream",
     "text": [
      "\r",
      "  0%|                                              | 0/1 [00:00<?, ?it/s]"
     ]
    },
    {
     "data": {
      "application/vnd.jupyter.widget-view+json": {
       "model_id": "2e106c3de28343eb965cbf2e7a97edee",
       "version_major": 2,
       "version_minor": 0
      },
      "text/plain": [
       "WebVisualizer(window_uid='window_0')"
      ]
     },
     "metadata": {},
     "output_type": "display_data"
    },
    {
     "name": "stderr",
     "output_type": "stream",
     "text": [
      "INFO - 2021-06-15 13:36:53,437 - trainer - test, 0/1, 0 iterations, 1.276627\n"
     ]
    },
    {
     "data": {
      "application/vnd.jupyter.widget-view+json": {
       "model_id": "a5006c7c5b844b618daea5290ffb0e2b",
       "version_major": 2,
       "version_minor": 0
      },
      "text/plain": [
       "WebVisualizer(window_uid='window_1')"
      ]
     },
     "metadata": {},
     "output_type": "display_data"
    },
    {
     "name": "stderr",
     "output_type": "stream",
     "text": [
      "INFO - 2021-06-15 13:36:56,794 - trainer - test, 0/1, 1 iterations, 0.874349\n"
     ]
    },
    {
     "data": {
      "application/vnd.jupyter.widget-view+json": {
       "model_id": "a157ac73e6f3417aaac309bd965af72b",
       "version_major": 2,
       "version_minor": 0
      },
      "text/plain": [
       "WebVisualizer(window_uid='window_2')"
      ]
     },
     "metadata": {},
     "output_type": "display_data"
    },
    {
     "name": "stderr",
     "output_type": "stream",
     "text": [
      "INFO - 2021-06-15 13:36:59,965 - trainer - test, 0/1, 2 iterations, 0.413566\n"
     ]
    },
    {
     "data": {
      "application/vnd.jupyter.widget-view+json": {
       "model_id": "5f58fd687d0c45d28be1fa67d64b9a18",
       "version_major": 2,
       "version_minor": 0
      },
      "text/plain": [
       "WebVisualizer(window_uid='window_3')"
      ]
     },
     "metadata": {},
     "output_type": "display_data"
    },
    {
     "name": "stderr",
     "output_type": "stream",
     "text": [
      "INFO - 2021-06-15 13:37:03,296 - trainer - test, 0/1, 3 iterations, 0.152394\n"
     ]
    },
    {
     "data": {
      "application/vnd.jupyter.widget-view+json": {
       "model_id": "3368f46ef3604fbea4dc4e421d5d6323",
       "version_major": 2,
       "version_minor": 0
      },
      "text/plain": [
       "WebVisualizer(window_uid='window_4')"
      ]
     },
     "metadata": {},
     "output_type": "display_data"
    },
    {
     "name": "stderr",
     "output_type": "stream",
     "text": [
      "INFO - 2021-06-15 13:37:06,579 - trainer - test, 0/1, 4 iterations, 0.084110\n"
     ]
    },
    {
     "data": {
      "application/vnd.jupyter.widget-view+json": {
       "model_id": "58e8d9e3f46e44b7b82e36d37fc7b24a",
       "version_major": 2,
       "version_minor": 0
      },
      "text/plain": [
       "WebVisualizer(window_uid='window_5')"
      ]
     },
     "metadata": {},
     "output_type": "display_data"
    },
    {
     "name": "stderr",
     "output_type": "stream",
     "text": [
      "INFO - 2021-06-15 13:37:09,831 - trainer - test, 0/1, 5 iterations, 0.071174\n"
     ]
    },
    {
     "data": {
      "application/vnd.jupyter.widget-view+json": {
       "model_id": "bb747e28623d4af58d2356a079e9c282",
       "version_major": 2,
       "version_minor": 0
      },
      "text/plain": [
       "WebVisualizer(window_uid='window_6')"
      ]
     },
     "metadata": {},
     "output_type": "display_data"
    },
    {
     "name": "stderr",
     "output_type": "stream",
     "text": [
      "INFO - 2021-06-15 13:37:13,345 - trainer - test, 0/1, 6 iterations, 0.069102\n"
     ]
    },
    {
     "data": {
      "application/vnd.jupyter.widget-view+json": {
       "model_id": "7280ff43d3f54f8bb38abe99be3890b1",
       "version_major": 2,
       "version_minor": 0
      },
      "text/plain": [
       "WebVisualizer(window_uid='window_7')"
      ]
     },
     "metadata": {},
     "output_type": "display_data"
    },
    {
     "name": "stderr",
     "output_type": "stream",
     "text": [
      "INFO - 2021-06-15 13:37:16,841 - trainer - test, 0/1, 7 iterations, 0.068973\n"
     ]
    },
    {
     "data": {
      "application/vnd.jupyter.widget-view+json": {
       "model_id": "a0d646bfc6324f128a29d8e084ef206a",
       "version_major": 2,
       "version_minor": 0
      },
      "text/plain": [
       "WebVisualizer(window_uid='window_8')"
      ]
     },
     "metadata": {},
     "output_type": "display_data"
    },
    {
     "name": "stderr",
     "output_type": "stream",
     "text": [
      "INFO - 2021-06-15 13:37:20,172 - trainer - test, 0/1, 8 iterations, 0.069051\n"
     ]
    },
    {
     "data": {
      "application/vnd.jupyter.widget-view+json": {
       "model_id": "1cd11297a3484633b065cfbfa46ac473",
       "version_major": 2,
       "version_minor": 0
      },
      "text/plain": [
       "WebVisualizer(window_uid='window_9')"
      ]
     },
     "metadata": {},
     "output_type": "display_data"
    },
    {
     "name": "stderr",
     "output_type": "stream",
     "text": [
      "INFO - 2021-06-15 13:37:23,592 - trainer - test, 0/1, 9 iterations, 0.069104\n"
     ]
    },
    {
     "data": {
      "application/vnd.jupyter.widget-view+json": {
       "model_id": "9e0e71f4ae094c3a9200ef14b1e590de",
       "version_major": 2,
       "version_minor": 0
      },
      "text/plain": [
       "WebVisualizer(window_uid='window_10')"
      ]
     },
     "metadata": {},
     "output_type": "display_data"
    },
    {
     "name": "stderr",
     "output_type": "stream",
     "text": [
      "INFO - 2021-06-15 13:37:27,086 - trainer - test, 0/1, 10 iterations, 0.069128\n",
      "                                                                         "
     ]
    },
    {
     "name": "stdout",
     "output_type": "stream",
     "text": [
      "success cases are [0. 0. 0. 0. 1. 1. 1. 1. 1. 1. 1.]\n",
      "Source to Template:\n",
      "toyexample_2021_04_17\n",
      "********************mean********************\n",
      "rot_MSE: 2.437836505812705, rot_RMSE: 1.5613572639894768, rot_MAE: 1.158016039794037, trans_MSE: 0.0013231680495664477, trans_RMSE: 0.03637537732720375, trans_MAE: 0.036363422870635986\n",
      "********************median********************\n",
      "rot_MSE: 0.7500058401062544, rot_RMSE: 0.8660287755647929, rot_MAE: 0.8660287755647929, trans_MSE: 0.0012785122962668538, trans_RMSE: 0.03575628995895386, trans_MAE: 0.03575628995895386\n"
     ]
    },
    {
     "name": "stderr",
     "output_type": "stream",
     "text": [
      "\r"
     ]
    }
   ],
   "source": [
    "# create model\n",
    "dptnetlk = trainer.TrainerAnalyticalPointNetLK(args)\n",
    "model = dptnetlk.create_model()\n",
    "\n",
    "# specify device\n",
    "if not torch.cuda.is_available():\n",
    "    args.device = 'cpu'\n",
    "args.device = torch.device(args.device)\n",
    "model.to(args.device)\n",
    "\n",
    "# load pre-trained model\n",
    "model.load_state_dict(torch.load('../logs/model_trained_on_ModelNet40_model_best.pth', map_location='cpu'))\n",
    "\n",
    "# testloader\n",
    "testloader = torch.utils.data.DataLoader(testset, batch_size=1, shuffle=False, num_workers=0, drop_last=False)\n",
    "\n",
    "# begin testing\n",
    "dptnetlk.test_one_epoch(model, testloader, args.device, 'test', args.data_type, args.vis, toyexample=True)"
   ]
  }
 ],
 "metadata": {
  "kernelspec": {
   "display_name": "Python 3",
   "language": "python",
   "name": "python3"
  },
  "language_info": {
   "codemirror_mode": {
    "name": "ipython",
    "version": 3
   },
   "file_extension": ".py",
   "mimetype": "text/x-python",
   "name": "python",
   "nbconvert_exporter": "python",
   "pygments_lexer": "ipython3",
   "version": "3.7.10"
  }
 },
 "nbformat": 4,
 "nbformat_minor": 2
}
