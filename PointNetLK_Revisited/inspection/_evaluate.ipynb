{
 "cells": [
  {
   "cell_type": "code",
   "execution_count": null,
   "outputs": [],
   "source": [
    "import pandas as pd\n",
    "import seaborn as sns\n",
    "import matplotlib.pyplot as plt\n",
    "import sys \n",
    "sys.path.append(\"../..\")\n",
    "\n",
    "from utils_common import EvalData"
   ],
   "metadata": {
    "collapsed": false,
    "pycharm": {
     "name": "#%%\n"
    }
   }
  },
  {
   "cell_type": "markdown",
   "source": [
    "## Extracting Test Data"
   ],
   "metadata": {
    "collapsed": false,
    "pycharm": {
     "name": "#%% md\n"
    }
   }
  },
  {
   "cell_type": "code",
   "execution_count": null,
   "outputs": [],
   "source": [
    "# pre-trained model\n",
    "# model_file_name = \"./logs/model_trained_on_ModelNet40_model_best.pth\""
   ],
   "metadata": {
    "collapsed": false,
    "pycharm": {
     "name": "#%%\n"
    }
   }
  },
  {
   "cell_type": "code",
   "execution_count": null,
   "outputs": [],
   "source": [
    "labels = [\"modelnet test (lk)\", \n",
    "          \"modelnet train (lk)\", \n",
    "          \"shapenet.sim.easy\", \"shapenet.sim.medium\", \"shapenet.sim.hard\",\n",
    "          \"shapenet.real.easy\", \"shapenet.real.medium\", \"shapenet.real.hard\"]\n",
    "\n",
    "files = []\n",
    "# evaluated on: modelnet test dataset\n",
    "files.append(\"../runs/Nov27_12-16-41_spark-agent/eval_data.pkl\")\n",
    "\n",
    "# evaluated on: modenet train dataset \n",
    "files.append(\"../runs/Nov27_12-46-27_spark-agent/eval_data.pkl\")\n",
    "\n",
    "# evaluated on: shapenet.sim.easy  \n",
    "files.append(\"../runs/Dec04_09-27-56_spark-agent/eval_data.pkl\")\n",
    "\n",
    "# evaluated on: shapenet.sim.medium  \n",
    "files.append(\"../runs/Dec04_09-29-07_spark-agent/eval_data.pkl\")\n",
    "\n",
    "# evaluated on: shapenet.sim.hard \n",
    "files.append(\"../runs/Dec04_09-30-31_spark-agent/eval_data.pkl\")\n",
    "\n",
    "# evaluated on: shapenet.real.easy  \n",
    "files.append(\"../runs/Dec04_19-18-04_spark-agent/eval_data.pkl\")\n",
    "\n",
    "# evaluated on: shapenet.real.medium  \n",
    "files.append(\"../runs/Dec04_19-19-36_spark-agent/eval_data.pkl\")\n",
    "\n",
    "# evaluated on: shapenet.real.hard \n",
    "files.append(\"../runs/Dec04_19-21-11_spark-agent/eval_data.pkl\")\n"
   ],
   "metadata": {
    "collapsed": false,
    "pycharm": {
     "name": "#%%\n"
    }
   }
  },
  {
   "cell_type": "code",
   "execution_count": null,
   "outputs": [],
   "source": [
    "data = dict()\n",
    "\n",
    "for i, label in enumerate(labels):\n",
    "    eval_data = EvalData() \n",
    "    \n",
    "    print(\"label: \", label)\n",
    "    print(\"loading file: \", files[i])\n",
    "    eval_data.load(files[i])\n",
    "    \n",
    "    eval_data.complete_eval_data()\n",
    "    \n",
    "    data[label] = eval_data.data"
   ],
   "metadata": {
    "collapsed": false,
    "pycharm": {
     "name": "#%%\n"
    }
   }
  },
  {
   "cell_type": "code",
   "execution_count": null,
   "outputs": [],
   "source": [],
   "metadata": {
    "collapsed": false,
    "pycharm": {
     "name": "#%%\n"
    }
   }
  },
  {
   "cell_type": "markdown",
   "source": [
    "## ADD-S and ADD-S (AUC)"
   ],
   "metadata": {
    "collapsed": false,
    "pycharm": {
     "name": "#%% md\n"
    }
   }
  },
  {
   "cell_type": "code",
   "execution_count": null,
   "outputs": [],
   "source": [
    "df = pd.DataFrame(data, index=[\"adds_th_score\", \"adds_auc\"])\n",
    "display(df)"
   ],
   "metadata": {
    "collapsed": false,
    "pycharm": {
     "name": "#%%\n"
    }
   }
  },
  {
   "cell_type": "code",
   "execution_count": null,
   "outputs": [],
   "source": [],
   "metadata": {
    "collapsed": false,
    "pycharm": {
     "name": "#%%\n"
    }
   }
  },
  {
   "cell_type": "markdown",
   "source": [
    "## Distribution of Error Metrics"
   ],
   "metadata": {
    "collapsed": false,
    "pycharm": {
     "name": "#%% md\n"
    }
   }
  },
  {
   "cell_type": "code",
   "execution_count": null,
   "outputs": [],
   "source": [
    "sns.set(style=\"darkgrid\")\n",
    "adds_data = dict()\n",
    "for key in data.keys():\n",
    "    df_ = pd.DataFrame(dict({key: data[key][\"adds\"]}))\n",
    "    adds_data[key] = df_\n"
   ],
   "metadata": {
    "collapsed": false,
    "pycharm": {
     "name": "#%%\n"
    }
   }
  },
  {
   "cell_type": "code",
   "execution_count": null,
   "outputs": [],
   "source": [
    "conca = pd.concat([adds_data[key].assign(dataset=key) for key in adds_data.keys()])"
   ],
   "metadata": {
    "collapsed": false,
    "pycharm": {
     "name": "#%%\n"
    }
   }
  },
  {
   "cell_type": "code",
   "execution_count": null,
   "outputs": [],
   "source": [
    "sns.kdeplot(conca, bw_adjust=0.1, cumulative=True, common_norm=False)\n",
    "plt.xlabel('ADD-S')"
   ],
   "metadata": {
    "collapsed": false,
    "pycharm": {
     "name": "#%%\n"
    }
   }
  },
  {
   "cell_type": "code",
   "execution_count": null,
   "outputs": [],
   "source": [
    "sns.set(style=\"darkgrid\")\n",
    "rerr_data = dict()\n",
    "for key in data.keys():\n",
    "    df_ = pd.DataFrame(dict({key: data[key][\"rerr\"]}))\n",
    "    rerr_data[key] = df_\n"
   ],
   "metadata": {
    "collapsed": false,
    "pycharm": {
     "name": "#%%\n"
    }
   }
  },
  {
   "cell_type": "code",
   "execution_count": null,
   "outputs": [],
   "source": [
    "conca = pd.concat([rerr_data[key].assign(dataset=key) for key in rerr_data.keys()])"
   ],
   "metadata": {
    "collapsed": false,
    "pycharm": {
     "name": "#%%\n"
    }
   }
  },
  {
   "cell_type": "code",
   "execution_count": null,
   "outputs": [],
   "source": [
    "sns.kdeplot(conca, bw_adjust=0.1, cumulative=True, common_norm=False)\n",
    "plt.xlabel('Rotation Error (axis-angle, in rad)')"
   ],
   "metadata": {
    "collapsed": false,
    "pycharm": {
     "name": "#%%\n"
    }
   }
  },
  {
   "cell_type": "code",
   "execution_count": null,
   "outputs": [],
   "source": [
    "sns.set(style=\"darkgrid\")\n",
    "terr_data = dict()\n",
    "for key in data.keys():\n",
    "    df_ = pd.DataFrame(dict({key: data[key][\"terr\"]}))\n",
    "    terr_data[key] = df_\n"
   ],
   "metadata": {
    "collapsed": false,
    "pycharm": {
     "name": "#%%\n"
    }
   }
  },
  {
   "cell_type": "code",
   "execution_count": null,
   "outputs": [],
   "source": [
    "conca = pd.concat([terr_data[key].assign(dataset=key) for key in terr_data.keys()])"
   ],
   "metadata": {
    "collapsed": false,
    "pycharm": {
     "name": "#%%\n"
    }
   }
  },
  {
   "cell_type": "code",
   "execution_count": null,
   "outputs": [],
   "source": [
    "sns.kdeplot(conca, bw_adjust=0.1, cumulative=True, common_norm=False)\n",
    "plt.xlabel('Translation Error')"
   ],
   "metadata": {
    "collapsed": false,
    "pycharm": {
     "name": "#%%\n"
    }
   }
  },
  {
   "cell_type": "code",
   "execution_count": null,
   "outputs": [],
   "source": [],
   "metadata": {
    "collapsed": false,
    "pycharm": {
     "name": "#%%\n"
    }
   }
  },
  {
   "cell_type": "code",
   "execution_count": null,
   "id": "d1fda1d8",
   "metadata": {},
   "outputs": [],
   "source": []
  }
 ],
 "metadata": {
  "kernelspec": {
   "display_name": "Python 3",
   "language": "python",
   "name": "python3"
  },
  "language_info": {
   "codemirror_mode": {
    "name": "ipython",
    "version": 3
   },
   "file_extension": ".py",
   "mimetype": "text/x-python",
   "name": "python",
   "nbconvert_exporter": "python",
   "pygments_lexer": "ipython3",
   "version": "3.9.7"
  }
 },
 "nbformat": 4,
 "nbformat_minor": 5
}